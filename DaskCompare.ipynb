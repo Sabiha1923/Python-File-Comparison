{
 "cells": [
  {
   "cell_type": "code",
   "execution_count": 16,
   "id": "da080cd1",
   "metadata": {},
   "outputs": [],
   "source": [
    "import pandas as pd\n",
    "import numpy as np\n",
    "from dask import dataframe as dd\n",
    "import time\n",
    "import os\n",
    "from dask.distributed import Client"
   ]
  },
  {
   "cell_type": "code",
   "execution_count": null,
   "id": "1d7f072e",
   "metadata": {},
   "outputs": [],
   "source": []
  },
  {
   "cell_type": "code",
   "execution_count": null,
   "id": "0ad13ea2",
   "metadata": {},
   "outputs": [],
   "source": [
    "#This module provides an interface to the optional garbage collector. It provides the ability to disable the collector, tune the collection frequency, and set debugging options."
   ]
  },
  {
   "cell_type": "code",
   "execution_count": null,
   "id": "6d8a29f0",
   "metadata": {},
   "outputs": [],
   "source": [
    "# Just in case, to clean up RAM\n",
    "import gc\n",
    "gc.collect()"
   ]
  },
  {
   "cell_type": "code",
   "execution_count": 20,
   "id": "4cd0a155",
   "metadata": {},
   "outputs": [
    {
     "data": {
      "text/plain": [
       "(9, 3)"
      ]
     },
     "execution_count": 20,
     "metadata": {},
     "output_type": "execute_result"
    }
   ],
   "source": [
    "df.shape  #--> gives number of rows:cols"
   ]
  },
  {
   "cell_type": "code",
   "execution_count": 21,
   "id": "b605214c",
   "metadata": {},
   "outputs": [
    {
     "data": {
      "text/html": [
       "<div>\n",
       "<style scoped>\n",
       "    .dataframe tbody tr th:only-of-type {\n",
       "        vertical-align: middle;\n",
       "    }\n",
       "\n",
       "    .dataframe tbody tr th {\n",
       "        vertical-align: top;\n",
       "    }\n",
       "\n",
       "    .dataframe thead th {\n",
       "        text-align: right;\n",
       "    }\n",
       "</style>\n",
       "<table border=\"1\" class=\"dataframe\">\n",
       "  <thead>\n",
       "    <tr style=\"text-align: right;\">\n",
       "      <th></th>\n",
       "      <th>Tran_Id</th>\n",
       "      <th>TranDate</th>\n",
       "      <th>TranAmnt</th>\n",
       "    </tr>\n",
       "  </thead>\n",
       "  <tbody>\n",
       "    <tr>\n",
       "      <th>0</th>\n",
       "      <td>123</td>\n",
       "      <td>09-02-2022</td>\n",
       "      <td>200000</td>\n",
       "    </tr>\n",
       "    <tr>\n",
       "      <th>1</th>\n",
       "      <td>345</td>\n",
       "      <td>09-02-2022</td>\n",
       "      <td>300000</td>\n",
       "    </tr>\n",
       "    <tr>\n",
       "      <th>2</th>\n",
       "      <td>956</td>\n",
       "      <td>09-02-2022</td>\n",
       "      <td>500000</td>\n",
       "    </tr>\n",
       "    <tr>\n",
       "      <th>3</th>\n",
       "      <td>524</td>\n",
       "      <td>09-02-2022</td>\n",
       "      <td>800000</td>\n",
       "    </tr>\n",
       "    <tr>\n",
       "      <th>4</th>\n",
       "      <td>654</td>\n",
       "      <td>09-02-2022</td>\n",
       "      <td>200000</td>\n",
       "    </tr>\n",
       "  </tbody>\n",
       "</table>\n",
       "</div>"
      ],
      "text/plain": [
       "   Tran_Id    TranDate  TranAmnt\n",
       "0      123  09-02-2022    200000\n",
       "1      345  09-02-2022    300000\n",
       "2      956  09-02-2022    500000\n",
       "3      524  09-02-2022    800000\n",
       "4      654  09-02-2022    200000"
      ]
     },
     "execution_count": 21,
     "metadata": {},
     "output_type": "execute_result"
    }
   ],
   "source": [
    "df.head()"
   ]
  },
  {
   "cell_type": "code",
   "execution_count": null,
   "id": "0aee4266",
   "metadata": {},
   "outputs": [],
   "source": []
  },
  {
   "cell_type": "code",
   "execution_count": 22,
   "id": "dac44d31",
   "metadata": {},
   "outputs": [
    {
     "name": "stdout",
     "output_type": "stream",
     "text": [
      "2.1792948246002197e-07 GB\n"
     ]
    }
   ],
   "source": [
    "#SIZE OF DATA TO BE IMPORTED\n",
    "print(os.path.getsize(r'C:\\Users\\Dell\\Desktop\\DaskPython\\DaskTest\\dask1.csv')/1024/1024/1024 , \"GB\")"
   ]
  },
  {
   "cell_type": "code",
   "execution_count": 23,
   "id": "64dc02ac",
   "metadata": {},
   "outputs": [
    {
     "name": "stdout",
     "output_type": "stream",
     "text": [
      "Read csv without chunks:  0.005986928939819336 sec\n"
     ]
    }
   ],
   "source": [
    "start = time.time()\n",
    "df = pd.read_csv(r'C:\\Users\\Dell\\Desktop\\DaskPython\\DaskTest\\dask1.csv')\n",
    "end = time.time()\n",
    "print(\"Read csv without chunks: \",(end-start),\"sec\")"
   ]
  },
  {
   "cell_type": "code",
   "execution_count": null,
   "id": "f226431f",
   "metadata": {},
   "outputs": [],
   "source": []
  },
  {
   "cell_type": "code",
   "execution_count": 26,
   "id": "eb087337",
   "metadata": {},
   "outputs": [
    {
     "name": "stdout",
     "output_type": "stream",
     "text": [
      "Read csv with chunks:  0.002286672592163086 sec\n"
     ]
    }
   ],
   "source": [
    "start = time.time()\n",
    "chunk = pd.read_csv(r'C:\\Users\\Dell\\Desktop\\DaskPython\\DaskTest\\dask1.csv',chunksize=1000000)\n",
    "end = time.time()\n",
    "print(\"Read csv with chunks: \",(end-start),\"sec\")\n",
    "pd_df = pd.concat(chunk)"
   ]
  },
  {
   "cell_type": "code",
   "execution_count": 27,
   "id": "4c3310b7",
   "metadata": {},
   "outputs": [
    {
     "data": {
      "text/plain": [
       "pandas.io.parsers.TextFileReader"
      ]
     },
     "execution_count": 27,
     "metadata": {},
     "output_type": "execute_result"
    }
   ],
   "source": [
    "type(chunk)"
   ]
  },
  {
   "cell_type": "code",
   "execution_count": null,
   "id": "be465229",
   "metadata": {},
   "outputs": [],
   "source": [
    "#The Client registers itself as the default Dask scheduler, and so runs all dask collections like dask.array, dask.bag, dask.dataframe and dask.delayed"
   ]
  },
  {
   "cell_type": "code",
   "execution_count": 29,
   "id": "f4c99f5c",
   "metadata": {},
   "outputs": [
    {
     "data": {
      "text/html": [
       "<table style=\"border: 2px solid white;\">\n",
       "<tr>\n",
       "<td style=\"vertical-align: top; border: 0px solid white\">\n",
       "<h3 style=\"text-align: left;\">Client</h3>\n",
       "<ul style=\"text-align: left; list-style: none; margin: 0; padding: 0;\">\n",
       "  <li><b>Scheduler: </b>inproc://192.168.0.105/13348/1</li>\n",
       "  <li><b>Dashboard: </b><a href='http://192.168.0.105:8787/status' target='_blank'>http://192.168.0.105:8787/status</a></li>\n",
       "</ul>\n",
       "</td>\n",
       "<td style=\"vertical-align: top; border: 0px solid white\">\n",
       "<h3 style=\"text-align: left;\">Cluster</h3>\n",
       "<ul style=\"text-align: left; list-style:none; margin: 0; padding: 0;\">\n",
       "  <li><b>Workers: </b>1</li>\n",
       "  <li><b>Cores: </b>4</li>\n",
       "  <li><b>Memory: </b>7.90 GiB</li>\n",
       "</ul>\n",
       "</td>\n",
       "</tr>\n",
       "</table>"
      ],
      "text/plain": [
       "<Client: 'inproc://192.168.0.105/13348/1' processes=1 threads=4, memory=7.90 GiB>"
      ]
     },
     "execution_count": 29,
     "metadata": {},
     "output_type": "execute_result"
    }
   ],
   "source": [
    "client = Client(processes=False)\n",
    "client"
   ]
  },
  {
   "cell_type": "code",
   "execution_count": null,
   "id": "86df2641",
   "metadata": {},
   "outputs": [],
   "source": []
  },
  {
   "cell_type": "code",
   "execution_count": 37,
   "id": "771cf302",
   "metadata": {},
   "outputs": [
    {
     "name": "stdout",
     "output_type": "stream",
     "text": [
      "Read csv with dask:  0.01399683952331543 sec\n",
      "Dask size: (Delayed('int-ec8ad790-5b96-4e1c-8201-6f2f055dd3be'), 3)\n"
     ]
    }
   ],
   "source": [
    "start = time.time()\n",
    "dask_df = dd.read_csv(r'C:\\Users\\Dell\\Desktop\\DaskPython\\DaskTest\\dask1.csv')\n",
    "end = time.time()\n",
    "print(\"Read csv with dask: \",(end-start),\"sec\")\n",
    "pd_df = dask_df.compute()\n",
    "print(\"Dask size:\", dask_df.shape)"
   ]
  },
  {
   "cell_type": "code",
   "execution_count": null,
   "id": "4f0f1394",
   "metadata": {},
   "outputs": [],
   "source": []
  },
  {
   "cell_type": "code",
   "execution_count": 41,
   "id": "3e66eb9b",
   "metadata": {},
   "outputs": [
    {
     "name": "stdout",
     "output_type": "stream",
     "text": [
      "   Tran_Id    TranDate  TranAmnt\n",
      "0      123  09-02-2022    200000\n",
      "1      345  09-02-2022    300000\n",
      "2      956  09-02-2022    500000\n",
      "3      524  09-02-2022    800000\n",
      "4      654  09-02-2022    200000\n",
      "5      123  09-02-2022    200000\n",
      "6      345  09-02-2022    300000\n",
      "7      654  09-02-2022    500000\n",
      "8      123  15-02-2022    100000\n"
     ]
    }
   ],
   "source": [
    "df1 = pd.read_csv(r'C:\\Users\\Dell\\Desktop\\DaskPython\\DaskTest\\dask1.csv')\n",
    "print (df1)"
   ]
  },
  {
   "cell_type": "code",
   "execution_count": 42,
   "id": "ecfb2e2f",
   "metadata": {},
   "outputs": [
    {
     "name": "stdout",
     "output_type": "stream",
     "text": [
      "   Tran_Id    TranDate  TranAmnt\n",
      "0      123  09-02-2022    200000\n",
      "1      345  09-02-2022    260000\n",
      "2      400  15-02-2022    500000\n",
      "3      524  09-02-2022    800000\n",
      "4      654  09-02-2022    200000\n",
      "5      500  09-02-2022    260000\n",
      "6      999  09-02-2022    300000\n",
      "7      210  09-02-2022    700000\n",
      "8      874  15-02-2022    100000\n"
     ]
    }
   ],
   "source": [
    "df2 = pd.read_csv(r'C:\\Users\\Dell\\Desktop\\DaskPython\\DaskTest\\dask2.csv')\n",
    "print(df2)"
   ]
  },
  {
   "cell_type": "code",
   "execution_count": 46,
   "id": "81484ee9",
   "metadata": {},
   "outputs": [
    {
     "data": {
      "text/html": [
       "<div>\n",
       "<style scoped>\n",
       "    .dataframe tbody tr th:only-of-type {\n",
       "        vertical-align: middle;\n",
       "    }\n",
       "\n",
       "    .dataframe tbody tr th {\n",
       "        vertical-align: top;\n",
       "    }\n",
       "\n",
       "    .dataframe thead th {\n",
       "        text-align: right;\n",
       "    }\n",
       "</style>\n",
       "<table border=\"1\" class=\"dataframe\">\n",
       "  <thead>\n",
       "    <tr style=\"text-align: right;\">\n",
       "      <th></th>\n",
       "      <th>Tran_Id</th>\n",
       "      <th>TranDate_x</th>\n",
       "      <th>TranAmnt_x</th>\n",
       "      <th>TranDate_y</th>\n",
       "      <th>TranAmnt_y</th>\n",
       "    </tr>\n",
       "  </thead>\n",
       "  <tbody>\n",
       "    <tr>\n",
       "      <th>0</th>\n",
       "      <td>123</td>\n",
       "      <td>09-02-2022</td>\n",
       "      <td>200000</td>\n",
       "      <td>09-02-2022</td>\n",
       "      <td>200000</td>\n",
       "    </tr>\n",
       "    <tr>\n",
       "      <th>1</th>\n",
       "      <td>123</td>\n",
       "      <td>09-02-2022</td>\n",
       "      <td>200000</td>\n",
       "      <td>09-02-2022</td>\n",
       "      <td>200000</td>\n",
       "    </tr>\n",
       "    <tr>\n",
       "      <th>2</th>\n",
       "      <td>123</td>\n",
       "      <td>15-02-2022</td>\n",
       "      <td>100000</td>\n",
       "      <td>09-02-2022</td>\n",
       "      <td>200000</td>\n",
       "    </tr>\n",
       "    <tr>\n",
       "      <th>3</th>\n",
       "      <td>345</td>\n",
       "      <td>09-02-2022</td>\n",
       "      <td>300000</td>\n",
       "      <td>09-02-2022</td>\n",
       "      <td>260000</td>\n",
       "    </tr>\n",
       "    <tr>\n",
       "      <th>4</th>\n",
       "      <td>345</td>\n",
       "      <td>09-02-2022</td>\n",
       "      <td>300000</td>\n",
       "      <td>09-02-2022</td>\n",
       "      <td>260000</td>\n",
       "    </tr>\n",
       "    <tr>\n",
       "      <th>5</th>\n",
       "      <td>524</td>\n",
       "      <td>09-02-2022</td>\n",
       "      <td>800000</td>\n",
       "      <td>09-02-2022</td>\n",
       "      <td>800000</td>\n",
       "    </tr>\n",
       "    <tr>\n",
       "      <th>6</th>\n",
       "      <td>654</td>\n",
       "      <td>09-02-2022</td>\n",
       "      <td>200000</td>\n",
       "      <td>09-02-2022</td>\n",
       "      <td>200000</td>\n",
       "    </tr>\n",
       "    <tr>\n",
       "      <th>7</th>\n",
       "      <td>654</td>\n",
       "      <td>09-02-2022</td>\n",
       "      <td>500000</td>\n",
       "      <td>09-02-2022</td>\n",
       "      <td>200000</td>\n",
       "    </tr>\n",
       "  </tbody>\n",
       "</table>\n",
       "</div>"
      ],
      "text/plain": [
       "   Tran_Id  TranDate_x  TranAmnt_x  TranDate_y  TranAmnt_y\n",
       "0      123  09-02-2022      200000  09-02-2022      200000\n",
       "1      123  09-02-2022      200000  09-02-2022      200000\n",
       "2      123  15-02-2022      100000  09-02-2022      200000\n",
       "3      345  09-02-2022      300000  09-02-2022      260000\n",
       "4      345  09-02-2022      300000  09-02-2022      260000\n",
       "5      524  09-02-2022      800000  09-02-2022      800000\n",
       "6      654  09-02-2022      200000  09-02-2022      200000\n",
       "7      654  09-02-2022      500000  09-02-2022      200000"
      ]
     },
     "execution_count": 46,
     "metadata": {},
     "output_type": "execute_result"
    }
   ],
   "source": [
    "pd.merge(df1,df2 , on = 'Tran_Id', how = 'inner')"
   ]
  },
  {
   "cell_type": "code",
   "execution_count": null,
   "id": "b56dd8df",
   "metadata": {},
   "outputs": [],
   "source": []
  },
  {
   "cell_type": "code",
   "execution_count": null,
   "id": "b4670342",
   "metadata": {},
   "outputs": [],
   "source": [
    "#The isin() method checks if the Dataframe contains the specified value(s)."
   ]
  },
  {
   "cell_type": "code",
   "execution_count": 58,
   "id": "533bdade",
   "metadata": {},
   "outputs": [
    {
     "data": {
      "text/plain": [
       "0     True\n",
       "1    False\n",
       "2    False\n",
       "3     True\n",
       "4     True\n",
       "5     True\n",
       "6    False\n",
       "7    False\n",
       "8    False\n",
       "dtype: bool"
      ]
     },
     "execution_count": 58,
     "metadata": {},
     "output_type": "execute_result"
    }
   ],
   "source": [
    "df1.apply(tuple,1).isin(df2.apply(tuple,1))"
   ]
  },
  {
   "cell_type": "code",
   "execution_count": 57,
   "id": "af58ad52",
   "metadata": {},
   "outputs": [
    {
     "name": "stdout",
     "output_type": "stream",
     "text": [
      "   Tran_Id    TranDate  TranAmnt\n",
      "0      123  09-02-2022    200000\n",
      "3      524  09-02-2022    800000\n",
      "4      654  09-02-2022    200000\n",
      "5      123  09-02-2022    200000 \n",
      " 0.006974220275878906 sec\n"
     ]
    }
   ],
   "source": [
    "start = time.time()\n",
    "result = df1[df1.apply(tuple,1).isin(df2.apply(tuple,1))]\n",
    "end = time.time()\n",
    "print (result, '\\n',(end-start),'sec')"
   ]
  },
  {
   "cell_type": "code",
   "execution_count": null,
   "id": "19488e9e",
   "metadata": {},
   "outputs": [],
   "source": []
  },
  {
   "cell_type": "code",
   "execution_count": 61,
   "id": "da1a082e",
   "metadata": {},
   "outputs": [
    {
     "name": "stdout",
     "output_type": "stream",
     "text": [
      "   Tran_Id    TranDate  TranAmnt _merge\n",
      "0      123  09-02-2022    200000   both\n",
      "1      123  09-02-2022    200000   both\n",
      "2      524  09-02-2022    800000   both\n",
      "3      654  09-02-2022    200000   both \n",
      " 0.021940231323242188 sec\n"
     ]
    }
   ],
   "source": [
    "start = time.time()\n",
    "result2 = df1.merge(df2, how= 'inner', indicator = True)\n",
    "end = time.time()\n",
    "print (result2,'\\n',(end-start),'sec')"
   ]
  },
  {
   "cell_type": "code",
   "execution_count": 62,
   "id": "45e8d84c",
   "metadata": {},
   "outputs": [
    {
     "name": "stdout",
     "output_type": "stream",
     "text": [
      "    Tran_Id    TranDate  TranAmnt      _merge\n",
      "2       345  09-02-2022    300000   left_only\n",
      "3       345  09-02-2022    300000   left_only\n",
      "4       956  09-02-2022    500000   left_only\n",
      "7       654  09-02-2022    500000   left_only\n",
      "8       123  15-02-2022    100000   left_only\n",
      "9       345  09-02-2022    260000  right_only\n",
      "10      400  15-02-2022    500000  right_only\n",
      "11      500  09-02-2022    260000  right_only\n",
      "12      999  09-02-2022    300000  right_only\n",
      "13      210  09-02-2022    700000  right_only\n",
      "14      874  15-02-2022    100000  right_only \n",
      " 0.055845022201538086 sec\n"
     ]
    }
   ],
   "source": [
    "start = time.time()\n",
    "result3 = df1.merge(df2, how= 'outer', indicator = True).loc[lambda v :v['_merge'] != 'both']\n",
    "end = time.time()\n",
    "print (result3,'\\n',(end-start),'sec')"
   ]
  },
  {
   "cell_type": "code",
   "execution_count": null,
   "id": "e6c45373",
   "metadata": {},
   "outputs": [],
   "source": [
    "#This returns all rows from both tables, join records from the left which have matching keys in the right table.When there is no Matching from any table NaN will be returned"
   ]
  },
  {
   "cell_type": "code",
   "execution_count": 87,
   "id": "a1675cf6",
   "metadata": {},
   "outputs": [
    {
     "name": "stdout",
     "output_type": "stream",
     "text": [
      "    Tran_Id  TranDate_x  TranAmnt_x  TranDate_y  TranAmnt_y\n",
      "0       123  09-02-2022    200000.0  09-02-2022    200000.0\n",
      "1       123  09-02-2022    200000.0  09-02-2022    200000.0\n",
      "2       123  15-02-2022    100000.0  09-02-2022    200000.0\n",
      "3       345  09-02-2022    300000.0  09-02-2022    260000.0\n",
      "4       345  09-02-2022    300000.0  09-02-2022    260000.0\n",
      "5       956  09-02-2022    500000.0         NaN         NaN\n",
      "6       524  09-02-2022    800000.0  09-02-2022    800000.0\n",
      "7       654  09-02-2022    200000.0  09-02-2022    200000.0\n",
      "8       654  09-02-2022    500000.0  09-02-2022    200000.0\n",
      "9       400         NaN         NaN  15-02-2022    500000.0\n",
      "10      500         NaN         NaN  09-02-2022    260000.0\n",
      "11      999         NaN         NaN  09-02-2022    300000.0\n",
      "12      210         NaN         NaN  09-02-2022    700000.0\n",
      "13      874         NaN         NaN  15-02-2022    100000.0 \n",
      " 0.008977174758911133 sec\n"
     ]
    }
   ],
   "source": [
    "start = time.time()\n",
    "data_merge = df1.merge(df2, how = 'outer', left_on = \"Tran_Id\", right_on = \"Tran_Id\")\n",
    "end = time.time()\n",
    "print (data_merge,'\\n',(end-start),'sec')\n"
   ]
  },
  {
   "cell_type": "code",
   "execution_count": null,
   "id": "26955758",
   "metadata": {},
   "outputs": [],
   "source": []
  },
  {
   "cell_type": "code",
   "execution_count": 88,
   "id": "22b7205f",
   "metadata": {},
   "outputs": [
    {
     "name": "stdout",
     "output_type": "stream",
     "text": [
      "    Tran_Id_x  TranDate_x  TranAmnt  Tran_Id_y  TranDate_y\n",
      "0         123  09-02-2022    200000        123  09-02-2022\n",
      "1         123  09-02-2022    200000        654  09-02-2022\n",
      "2         654  09-02-2022    200000        123  09-02-2022\n",
      "3         654  09-02-2022    200000        654  09-02-2022\n",
      "4         123  09-02-2022    200000        123  09-02-2022\n",
      "5         123  09-02-2022    200000        654  09-02-2022\n",
      "6         345  09-02-2022    300000        999  09-02-2022\n",
      "7         345  09-02-2022    300000        999  09-02-2022\n",
      "8         956  09-02-2022    500000        400  15-02-2022\n",
      "9         654  09-02-2022    500000        400  15-02-2022\n",
      "10        524  09-02-2022    800000        524  09-02-2022\n",
      "11        123  15-02-2022    100000        874  15-02-2022 \n",
      " 0.009974002838134766 sec\n"
     ]
    }
   ],
   "source": [
    "start = time.time()\n",
    "data_merge2 = df1.merge(df2, how = 'inner', left_on = \"TranAmnt\", right_on = \"TranAmnt\")\n",
    "end = time.time()\n",
    "print (data_merge2,'\\n',(end-start),'sec')\n"
   ]
  },
  {
   "cell_type": "code",
   "execution_count": null,
   "id": "3dc65163",
   "metadata": {},
   "outputs": [],
   "source": []
  },
  {
   "cell_type": "code",
   "execution_count": 78,
   "id": "80a281a0",
   "metadata": {},
   "outputs": [],
   "source": [
    "#compare files\n",
    "with open(r'C:\\Users\\Dell\\Desktop\\DaskPython\\DaskTest\\dask1.csv') as t1, open(r'C:\\Users\\Dell\\Desktop\\DaskPython\\DaskTest\\dask2.csv') as t2:\n",
    "    fileone = t1.readlines()\n",
    "    filetwo = t2.readlines()\n",
    "\n",
    "with open('update.csv','w') as outFile:\n",
    "    for line in filetwo:\n",
    "        if line not in fileone:\n",
    "            outFile.write(line)\n",
    "            end = time.time()\n",
    "\n",
    "#update.csv will give difference of both files which is compared."
   ]
  },
  {
   "cell_type": "code",
   "execution_count": null,
   "id": "1f7ec44c",
   "metadata": {},
   "outputs": [],
   "source": []
  },
  {
   "cell_type": "code",
   "execution_count": 89,
   "id": "dcf75d5f",
   "metadata": {},
   "outputs": [
    {
     "name": "stdout",
     "output_type": "stream",
     "text": [
      "   Tran_Id  TranDate_x  TranAmnt  TranDate_y\n",
      "0      123  09-02-2022    200000  09-02-2022\n",
      "1      123  09-02-2022    200000  09-02-2022\n",
      "2      524  09-02-2022    800000  09-02-2022\n",
      "3      654  09-02-2022    200000  09-02-2022 \n",
      " 0.00697779655456543 sec\n"
     ]
    }
   ],
   "source": [
    "start = time.time()\n",
    "result3 = pd.merge(df1,df2, on= ['Tran_Id', 'TranAmnt'], how = 'inner')\n",
    "end = time.time()\n",
    "print (result3,'\\n',(end-start),'sec')"
   ]
  },
  {
   "cell_type": "code",
   "execution_count": null,
   "id": "c67222b7",
   "metadata": {},
   "outputs": [],
   "source": []
  },
  {
   "cell_type": "code",
   "execution_count": 92,
   "id": "a07e8c8a",
   "metadata": {},
   "outputs": [
    {
     "name": "stdout",
     "output_type": "stream",
     "text": [
      "   Tran_Id    TranDate  TranAmnt\n",
      "0      123  09-02-2022    200000\n",
      "1      123  09-02-2022    200000\n",
      "2      524  09-02-2022    800000\n",
      "3      654  09-02-2022    200000 \n",
      " 0.028254985809326172 sec\n"
     ]
    }
   ],
   "source": [
    "start = time.time()\n",
    "result5 = pd.merge(df1,df2, on= ['TranDate', 'TranAmnt', 'Tran_Id'], how = 'inner')\n",
    "end = time.time()\n",
    "print (result5,'\\n',(end-start),'sec')"
   ]
  },
  {
   "cell_type": "code",
   "execution_count": null,
   "id": "02fb8a4e",
   "metadata": {},
   "outputs": [],
   "source": []
  },
  {
   "cell_type": "code",
   "execution_count": null,
   "id": "d5e6e522",
   "metadata": {},
   "outputs": [],
   "source": []
  }
 ],
 "metadata": {
  "kernelspec": {
   "display_name": "Python 3",
   "language": "python",
   "name": "python3"
  },
  "language_info": {
   "codemirror_mode": {
    "name": "ipython",
    "version": 3
   },
   "file_extension": ".py",
   "mimetype": "text/x-python",
   "name": "python",
   "nbconvert_exporter": "python",
   "pygments_lexer": "ipython3",
   "version": "3.8.8"
  }
 },
 "nbformat": 4,
 "nbformat_minor": 5
}
